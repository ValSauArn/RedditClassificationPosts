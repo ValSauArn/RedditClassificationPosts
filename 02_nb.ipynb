{
 "cells": [
  {
   "cell_type": "markdown",
   "id": "588863f7",
   "metadata": {},
   "source": [
    "# CLASSIFICATION OF R/SOURDOUGH POSTS PER FLAIR TAGS: 02 - NAIVE BAYES CLASSIFIER\n",
    "\n",
    "## 1) Introduction\n",
    "\n",
    "### 1.1) General presentation: \n",
    "\n",
    "The aim of this project is to help predict the category of a post on the r/sourdough subreddit, based on its text content: its title, the content of the post itself and of the comments. More details on the general context of the project are provided in the first notebook : [01 - Exploratory Data Analysis](./01_exploratory_data_analysis.ipynb). \n",
    "\n",
    "The main strategy employed for the preprocessing of the data was a Bag-of-words approach, where the cleaning (cleaning, removing punctuation, numbers and  urls, lemmatization) and tokenization (splitting of the strings in smaller units; here words) was followed by counting each unique words to define the vocabulary. Then, each word was represented by its freqency in each post, pondered by its freqency in the whole corpus. The TF-IDF vectorizer was tuned to remove the noise(i.e.: words too frequent as well as words not frequent enough). \n",
    "\n",
    "In addition, posts categories were explored, and it was decided to regroup them in meta categories, as the large number of initial categories (40), paired with the large imbalance (some categories only having 1 observation, when others had  almost a thousand) would have lead to poor performance for the classifiers. \n",
    "\n",
    "Thus, the preprocessing resulted in two dataset: \n",
    "* A training set with 6713 observations and 1195 features that will be used to train our machine learning models through cross validation\n",
    "* A test set with 2878 observations and 1195 features that will be used to test the performance of our models. \n",
    "\n",
    "The meta classes to predict, constructed based on insider knowledge of the r/sourdough subreddit are as follows: \n",
    "* Critique\n",
    "* Discussion\n",
    "* Help\n",
    "* Look \n",
    "\n",
    "The Machine learning strategy for the project is as follows: \n",
    "1. Train multiple classifiers on the training set, using cross validation to tune the hyperparameters. These models, referred to as 0-level classifiers,  are: \n",
    "* Naive Bayes\n",
    "* Logistic Regression\n",
    "* K nearest neighbors\n",
    "* Decision Tree\n",
    "* Random Forest\n",
    "* Support Vector Machine with a non linear kernel\n",
    "\n",
    "2. Produce 5-folds out of bag predictions on the training set (divide the training set in 5 folds, fitting the optimal model on the first 4 folds to predict the fifth, repeat % times) from all 0-level classifiers and use these to perform a quick data exploration of the predictions. \n",
    "\n",
    "3. Stack the 0-level classifiers and train and fine tune the meta classifier. \n",
    "\n",
    "4. Evaluate all predictions(0-level and meta-classifier), by comparing their performance to a dummy classifier, using a stratified strategy (prediction randomly drawn from a distribution computed from the target variable distribution in the training set)\n",
    "\n",
    "5. At the end of the process, we will discuss our results as well as the challenges we faced and the possible points of improvements that could be considered for the project. \n",
    "\n",
    "### 1.2) Aim of this notebook\n",
    "This notebook aims at performing the training of a Naive Bayes classifier to help categorize reddit posts on the r/sourdough subreddit. \n",
    "Naive Bayes classifiers are a family of probabilistic classifiers, built upon the Bayes theorem. The main idea is to compute predictions by modeling the conditional probability (probability of event A occuring, given that event B already happened) of observing a certain class, given the values in the set of features at disposition, using the Bayes formula. The class with the highest probabilty is the prediction. \n",
    "In the case of a multinomial problem (more than 2 classes to predict), we use the Multinomial Naive Bayes approach, which has the following assumptions: \n",
    "* All features are assumed independant\n",
    "* All features are assumed to make an equal contribution to the prediction of the outcome. \n",
    "\n",
    "The main advantage of this approaches are that it is very simple to implement and extremely fast. \n",
    "\n",
    "At the end of this notebook, we will have achieved 3 things: \n",
    "* We will have tuned a Naive Bayes model and found the optimal set of hyper parameters using cross validation on our training set. \n",
    "* We will have computed predictions on the test set to evaluate the performance of our tuned model \n",
    "* We will have computed 5-folds predictions on the training set to use in our stacking strategy \n",
    "\n",
    "### 2) Training the Naive Bayes model \n",
    "\n",
    "#### Loading libraries and data\n",
    "First, we load the data, as well as the optimal set of parameters for the TF-IDF vectorizer, as established in [01 - Exploratory Data Analysis](./01_exploratory_data_analysis.ipynb). "
   ]
  },
  {
   "cell_type": "code",
   "execution_count": 1,
   "id": "48238be9",
   "metadata": {},
   "outputs": [],
   "source": [
    "# loading libraries\n",
    "\n",
    "import tensorflow as tf\n",
    "import tensorflow_hub as hub\n",
    "import matplotlib.pyplot as plt\n",
    "import numpy as np\n",
    "import os\n",
    "import pandas as pd\n",
    "import seaborn as sns"
   ]
  },
  {
   "cell_type": "code",
   "execution_count": 2,
   "id": "197fc370",
   "metadata": {},
   "outputs": [
    {
     "data": {
      "text/html": [
       "<div>\n",
       "<style scoped>\n",
       "    .dataframe tbody tr th:only-of-type {\n",
       "        vertical-align: middle;\n",
       "    }\n",
       "\n",
       "    .dataframe tbody tr th {\n",
       "        vertical-align: top;\n",
       "    }\n",
       "\n",
       "    .dataframe thead th {\n",
       "        text-align: right;\n",
       "    }\n",
       "</style>\n",
       "<table border=\"1\" class=\"dataframe\">\n",
       "  <thead>\n",
       "    <tr style=\"text-align: right;\">\n",
       "      <th></th>\n",
       "      <th>Unnamed: 0</th>\n",
       "      <th>Post ID_x</th>\n",
       "      <th>Subreddit</th>\n",
       "      <th>Title</th>\n",
       "      <th>OP Text</th>\n",
       "      <th>Permalink</th>\n",
       "      <th>Publish Date</th>\n",
       "      <th>Flair</th>\n",
       "      <th>Post ID_y</th>\n",
       "      <th>Body</th>\n",
       "      <th>Post ID2</th>\n",
       "      <th>standard_title</th>\n",
       "      <th>standard_op</th>\n",
       "      <th>standard_body</th>\n",
       "      <th>standard_text</th>\n",
       "      <th>Text</th>\n",
       "      <th>Publish Date Datetime</th>\n",
       "      <th>day</th>\n",
       "      <th>Flair_process</th>\n",
       "      <th>date_flag</th>\n",
       "    </tr>\n",
       "  </thead>\n",
       "  <tbody>\n",
       "    <tr>\n",
       "      <th>0</th>\n",
       "      <td>4974</td>\n",
       "      <td>mxv8wb</td>\n",
       "      <td>Sourdough</td>\n",
       "      <td>My first loaf!</td>\n",
       "      <td>NaN</td>\n",
       "      <td>/r/Sourdough/comments/mxv8wb/my_first_loaf/</td>\n",
       "      <td>2021-04-25 01:02:04</td>\n",
       "      <td>Help! Rate/critique my bread</td>\n",
       "      <td>NaN</td>\n",
       "      <td>NaN</td>\n",
       "      <td>NaN</td>\n",
       "      <td>first loaf</td>\n",
       "      <td>NaN</td>\n",
       "      <td>NaN</td>\n",
       "      <td>first loaf</td>\n",
       "      <td>My first loaf!</td>\n",
       "      <td>2021-04-25 01:02:04</td>\n",
       "      <td>2021-04-25</td>\n",
       "      <td>Critique</td>\n",
       "      <td>Before 01.06.2021</td>\n",
       "    </tr>\n",
       "    <tr>\n",
       "      <th>1</th>\n",
       "      <td>2230</td>\n",
       "      <td>l1e53s</td>\n",
       "      <td>Sourdough</td>\n",
       "      <td>This one is a little better but still not grea...</td>\n",
       "      <td>NaN</td>\n",
       "      <td>/r/Sourdough/comments/l1e53s/this_one_is_a_lit...</td>\n",
       "      <td>2021-01-20 18:42:43</td>\n",
       "      <td>Newbie help</td>\n",
       "      <td>t3_l1e53s</td>\n",
       "      <td>6h in a cold apartment is not that long you kn...</td>\n",
       "      <td>l1e53s</td>\n",
       "      <td>one little well still great bulk ferment cold ...</td>\n",
       "      <td>NaN</td>\n",
       "      <td>h cold apartment long know h maybe try long bu...</td>\n",
       "      <td>one little well still great bulk ferment cold ...</td>\n",
       "      <td>This one is a little better but still not grea...</td>\n",
       "      <td>2021-01-20 18:42:43</td>\n",
       "      <td>2021-01-20</td>\n",
       "      <td>Help</td>\n",
       "      <td>Before 01.06.2021</td>\n",
       "    </tr>\n",
       "    <tr>\n",
       "      <th>2</th>\n",
       "      <td>9017</td>\n",
       "      <td>qo8d7r</td>\n",
       "      <td>Sourdough</td>\n",
       "      <td>It still amazes me that we can turn flour wate...</td>\n",
       "      <td>NaN</td>\n",
       "      <td>/r/Sourdough/comments/qo8d7r/it_still_amazes_m...</td>\n",
       "      <td>2021-11-06 21:18:54</td>\n",
       "      <td>Rate/critique my bread</td>\n",
       "      <td>t3_qo8d7r</td>\n",
       "      <td>What kind of paper do you use?,Its a reusable ...</td>\n",
       "      <td>qo8d7r</td>\n",
       "      <td>still amaze turn flour water salt</td>\n",
       "      <td>NaN</td>\n",
       "      <td>kind paper use reusable parchment paper like t...</td>\n",
       "      <td>still amaze turn flour water salt  kind paper ...</td>\n",
       "      <td>It still amazes me that we can turn flour wate...</td>\n",
       "      <td>2021-11-06 21:18:54</td>\n",
       "      <td>2021-11-06</td>\n",
       "      <td>Critique</td>\n",
       "      <td>After 01.06.2021</td>\n",
       "    </tr>\n",
       "    <tr>\n",
       "      <th>3</th>\n",
       "      <td>673</td>\n",
       "      <td>k9ymng</td>\n",
       "      <td>Sourdough</td>\n",
       "      <td>Joshua Weizmann starter method- day ten.</td>\n",
       "      <td>As common the first few days my starter was do...</td>\n",
       "      <td>/r/Sourdough/comments/k9ymng/joshua_weizmann_s...</td>\n",
       "      <td>2020-12-09 20:25:14</td>\n",
       "      <td>Newbie help</td>\n",
       "      <td>t3_k9ymng</td>\n",
       "      <td>Sounds like you just need to keep discarding a...</td>\n",
       "      <td>k9ymng</td>\n",
       "      <td>joshua weizmann starter method day ten</td>\n",
       "      <td>common first day starter double day ten slow m...</td>\n",
       "      <td>sound like need keep discard feed maybe twice ...</td>\n",
       "      <td>joshua weizmann starter method day ten common ...</td>\n",
       "      <td>Joshua Weizmann starter method- day ten. As co...</td>\n",
       "      <td>2020-12-09 20:25:14</td>\n",
       "      <td>2020-12-09</td>\n",
       "      <td>Help</td>\n",
       "      <td>Before 01.06.2021</td>\n",
       "    </tr>\n",
       "    <tr>\n",
       "      <th>4</th>\n",
       "      <td>3546</td>\n",
       "      <td>lsrho0</td>\n",
       "      <td>Sourdough</td>\n",
       "      <td>My first loaf with a starter I started just 1 ...</td>\n",
       "      <td>NaN</td>\n",
       "      <td>/r/Sourdough/comments/lsrho0/my_first_loaf_wit...</td>\n",
       "      <td>2021-02-26 07:12:56</td>\n",
       "      <td>Help</td>\n",
       "      <td>t3_lsrho0</td>\n",
       "      <td>Recipe as follows, 90% KA bread flour 10% KA w...</td>\n",
       "      <td>lsrho0</td>\n",
       "      <td>first loaf starter start week ago kitchen big ...</td>\n",
       "      <td>NaN</td>\n",
       "      <td>recipe follow ka bread flour ka whole wheat sa...</td>\n",
       "      <td>first loaf starter start week ago kitchen big ...</td>\n",
       "      <td>My first loaf with a starter I started just 1 ...</td>\n",
       "      <td>2021-02-26 07:12:56</td>\n",
       "      <td>2021-02-26</td>\n",
       "      <td>Help</td>\n",
       "      <td>Before 01.06.2021</td>\n",
       "    </tr>\n",
       "  </tbody>\n",
       "</table>\n",
       "</div>"
      ],
      "text/plain": [
       "   Unnamed: 0 Post ID_x  Subreddit  \\\n",
       "0        4974    mxv8wb  Sourdough   \n",
       "1        2230    l1e53s  Sourdough   \n",
       "2        9017    qo8d7r  Sourdough   \n",
       "3         673    k9ymng  Sourdough   \n",
       "4        3546    lsrho0  Sourdough   \n",
       "\n",
       "                                               Title  \\\n",
       "0                                     My first loaf!   \n",
       "1  This one is a little better but still not grea...   \n",
       "2  It still amazes me that we can turn flour wate...   \n",
       "3           Joshua Weizmann starter method- day ten.   \n",
       "4  My first loaf with a starter I started just 1 ...   \n",
       "\n",
       "                                             OP Text  \\\n",
       "0                                                NaN   \n",
       "1                                                NaN   \n",
       "2                                                NaN   \n",
       "3  As common the first few days my starter was do...   \n",
       "4                                                NaN   \n",
       "\n",
       "                                           Permalink         Publish Date  \\\n",
       "0        /r/Sourdough/comments/mxv8wb/my_first_loaf/  2021-04-25 01:02:04   \n",
       "1  /r/Sourdough/comments/l1e53s/this_one_is_a_lit...  2021-01-20 18:42:43   \n",
       "2  /r/Sourdough/comments/qo8d7r/it_still_amazes_m...  2021-11-06 21:18:54   \n",
       "3  /r/Sourdough/comments/k9ymng/joshua_weizmann_s...  2020-12-09 20:25:14   \n",
       "4  /r/Sourdough/comments/lsrho0/my_first_loaf_wit...  2021-02-26 07:12:56   \n",
       "\n",
       "                           Flair  Post ID_y  \\\n",
       "0  Help! Rate/critique my bread         NaN   \n",
       "1                  Newbie help    t3_l1e53s   \n",
       "2         Rate/critique my bread  t3_qo8d7r   \n",
       "3                  Newbie help    t3_k9ymng   \n",
       "4                         Help    t3_lsrho0   \n",
       "\n",
       "                                                Body Post ID2  \\\n",
       "0                                                NaN      NaN   \n",
       "1  6h in a cold apartment is not that long you kn...   l1e53s   \n",
       "2  What kind of paper do you use?,Its a reusable ...   qo8d7r   \n",
       "3  Sounds like you just need to keep discarding a...   k9ymng   \n",
       "4  Recipe as follows, 90% KA bread flour 10% KA w...   lsrho0   \n",
       "\n",
       "                                      standard_title  \\\n",
       "0                                         first loaf   \n",
       "1  one little well still great bulk ferment cold ...   \n",
       "2                  still amaze turn flour water salt   \n",
       "3             joshua weizmann starter method day ten   \n",
       "4  first loaf starter start week ago kitchen big ...   \n",
       "\n",
       "                                         standard_op  \\\n",
       "0                                                NaN   \n",
       "1                                                NaN   \n",
       "2                                                NaN   \n",
       "3  common first day starter double day ten slow m...   \n",
       "4                                                NaN   \n",
       "\n",
       "                                       standard_body  \\\n",
       "0                                                NaN   \n",
       "1  h cold apartment long know h maybe try long bu...   \n",
       "2  kind paper use reusable parchment paper like t...   \n",
       "3  sound like need keep discard feed maybe twice ...   \n",
       "4  recipe follow ka bread flour ka whole wheat sa...   \n",
       "\n",
       "                                       standard_text  \\\n",
       "0                                       first loaf     \n",
       "1  one little well still great bulk ferment cold ...   \n",
       "2  still amaze turn flour water salt  kind paper ...   \n",
       "3  joshua weizmann starter method day ten common ...   \n",
       "4  first loaf starter start week ago kitchen big ...   \n",
       "\n",
       "                                                Text Publish Date Datetime  \\\n",
       "0                                   My first loaf!     2021-04-25 01:02:04   \n",
       "1  This one is a little better but still not grea...   2021-01-20 18:42:43   \n",
       "2  It still amazes me that we can turn flour wate...   2021-11-06 21:18:54   \n",
       "3  Joshua Weizmann starter method- day ten. As co...   2020-12-09 20:25:14   \n",
       "4  My first loaf with a starter I started just 1 ...   2021-02-26 07:12:56   \n",
       "\n",
       "          day Flair_process          date_flag  \n",
       "0  2021-04-25      Critique  Before 01.06.2021  \n",
       "1  2021-01-20          Help  Before 01.06.2021  \n",
       "2  2021-11-06      Critique   After 01.06.2021  \n",
       "3  2020-12-09          Help  Before 01.06.2021  \n",
       "4  2021-02-26          Help  Before 01.06.2021  "
      ]
     },
     "execution_count": 2,
     "metadata": {},
     "output_type": "execute_result"
    }
   ],
   "source": [
    "#load data\n",
    "train_df = pd.read_csv('data/train/train_preprocessed_sourdough.csv', sep = '\\t')\n",
    "test_df = pd.read_csv('data/test/test_preprocessed_sourdough.csv', sep = '\\t')\n",
    "train_df.head()"
   ]
  },
  {
   "cell_type": "code",
   "execution_count": 3,
   "id": "c31affe4",
   "metadata": {},
   "outputs": [],
   "source": [
    "X_tr = train_df[\"standard_text\"].values\n",
    "X_te = test_df[\"standard_text\"].values"
   ]
  },
  {
   "cell_type": "code",
   "execution_count": 4,
   "id": "8d82dbf2",
   "metadata": {},
   "outputs": [],
   "source": [
    "from sklearn.preprocessing import LabelEncoder\n",
    "LE = LabelEncoder()\n",
    "y_tr = train_df[\"Flair_process\"]\n",
    "y_tr_enc = LE.fit_transform(y_tr)\n",
    "\n",
    "y_te = test_df[\"Flair_process\"]\n",
    "y_te_enc = LE.transform(y_te)"
   ]
  },
  {
   "cell_type": "code",
   "execution_count": 5,
   "id": "f84c403c",
   "metadata": {},
   "outputs": [
    {
     "name": "stdout",
     "output_type": "stream",
     "text": [
      "Wall time: 783 ms\n"
     ]
    }
   ],
   "source": [
    "%%time\n",
    "from sklearn.feature_extraction.text import TfidfVectorizer\n",
    "import pickle\n",
    "\n",
    "#import best parameters for tf_idf\n",
    "vec = open(\"./data/train/Tfidf_parameters.pickle\", 'rb') # rb= read in bytes\n",
    "tf_idf_search  = pickle.load(vec)\n",
    "vec.close()\n",
    "# Calculate TF-IDF\n",
    "tf_idf = TfidfVectorizer(#max_features=tf_idf_search.best_params_['vect__max_features'],\n",
    "                         min_df =tf_idf_search.best_params_['vect__min_df'], \n",
    "                         max_df = tf_idf_search.best_params_['vect__max_df'], \n",
    "                         use_idf = tf_idf_search.best_params_['vect__use_idf']\n",
    "                        )\n",
    "\n",
    "X_train_tfidf = tf_idf.fit_transform(X_tr)\n",
    "X_test_tfidf = tf_idf.transform(X_te)"
   ]
  },
  {
   "cell_type": "markdown",
   "id": "9e483f78",
   "metadata": {},
   "source": [
    "#### Hyper-paramaters tuning \n",
    "In order to train our Naive Bayes model, we will define a grid of parameters. \n",
    "In this case, the only parameter that we will tune is: \n",
    "* alpha: this is a smoothing parameter, used to assign a default non null value to probability of words that are not seen in the training set. Indeed, if the text to classify contains words  that were not seen during training, it's probablity will be 0. As the features are assumed independent, the predicted conditional probablity is thus computed using the product of the probability of appearance of each words and if words are not seen, the result of the computation is 0 regardless of the value for all the other words in the dictionary. Alpha assigns a default value, mitigating this issue.  \n",
    "\n",
    "\n",
    "\n",
    "#### Classes imbalance\n",
    "As established during the EDA, even after consolidating the classes, we still have some imbalances in the classes to predict. This can be an issue as classes with less samples, tend to be predicted less accurately. \n",
    "Our strategy to mitigate for this is thus: \n",
    "* Using the f1 score as the metrics  as it averages the precision and recall and is thus better fitted than the accuacy when there is imbalance in the dataset\n",
    "* Using the smoothing parameter, as classes with less observation are less likely to encounter all words in training. \n",
    "\n",
    "A common strategy for classes imbalance is to perform either upsampling or downsampling: \n",
    "* Upsampling means increasing the size of the classes with less observations, by duplicating ramdom samples until we reach the size of the classes with the majority of observations. This method has the drawback of artificially reducing variability in the minority classes, even more so if the difference in size between the minority and majority classes is very important. \n",
    "* Downsampling means removing random observations in the majority classes until we reach the number of observations in the minority class. This method has the drawback of reducing the size of the dataset, and while classes with less observations tend to be predicted less accurately, if all classes have a small number of observations, then all predictions will be less accurate. \n",
    "\n",
    "Finally another strategy is to use a cost-sensitive approach. For this approach, the cost of prediction errors is taken into account during training, by weighing the parameters differently per class in order to give more importance to the correct predictions of the classes with less observations. A simple way of implementing this strategy is to adjust weights inversely proportionately to class frequencies in the input data. \n",
    "This is the genereal approach we used throughout the project, as it didn't further impact the dataset and could be implemented with almost all approaches. \n",
    "\n",
    "In the case of the Naive Bayes, as separate counts are computed per classes to calculate the conditional probabilities, no over steps than the settings of the smoothing parameter, and fitting the prior with the class distribution in the training set and considering a f1-score are needed. \n",
    "\n",
    "#### Grid search\n",
    "Next, we define and run the grid search to tune the Naive Bayes model: "
   ]
  },
  {
   "cell_type": "code",
   "execution_count": 6,
   "id": "c6be71af",
   "metadata": {},
   "outputs": [],
   "source": [
    "# load the machine learning libraries: \n",
    "from sklearn.model_selection import GridSearchCV, StratifiedKFold\n",
    "from sklearn.naive_bayes import MultinomialNB\n",
    "from sklearn.preprocessing import Normalizer\n",
    "\n",
    "from matplotlib import pyplot\n",
    "from sklearn.pipeline import make_pipeline, Pipeline\n",
    "\n",
    "from sklearn.metrics import confusion_matrix, ConfusionMatrixDisplay, f1_score, classification_report\n"
   ]
  },
  {
   "cell_type": "code",
   "execution_count": 7,
   "id": "2f5745f4",
   "metadata": {},
   "outputs": [],
   "source": [
    "# prepare kfolds\n",
    "np.random.seed(42)\n",
    "folds = 5\n",
    "\n",
    "skf = StratifiedKFold(n_splits=folds, shuffle = True, random_state = 0)"
   ]
  },
  {
   "cell_type": "code",
   "execution_count": 8,
   "id": "f52ec553",
   "metadata": {},
   "outputs": [],
   "source": [
    "# Naive Bayes classifier \n",
    "# Grid search with cross-validation\n",
    "from sklearn.model_selection import GridSearchCV\n",
    "\n",
    "bayes_estimator = Pipeline([\n",
    "    ('bayes', MultinomialNB(fit_prior = True))\n",
    "])\n",
    "\n",
    "\n",
    "\n",
    "# Create the random grid\n",
    "params_dict = {'bayes__alpha': [1.0e-10, 0.1, 0.2, 0.3, 0.4, 0.5, 0.6, 0.7, 0.8, 0.9, 1]\n",
    "              }\n",
    "bayes_gscv = GridSearchCV(bayes_estimator, param_grid = params_dict, cv=skf, scoring = \"f1_weighted\", refit=True, return_train_score=True, verbose = 1, n_jobs = -1)"
   ]
  },
  {
   "cell_type": "code",
   "execution_count": 9,
   "id": "9813c91c",
   "metadata": {},
   "outputs": [
    {
     "name": "stdout",
     "output_type": "stream",
     "text": [
      "Fitting 5 folds for each of 11 candidates, totalling 55 fits\n"
     ]
    },
    {
     "data": {
      "text/html": [
       "<div>\n",
       "<style scoped>\n",
       "    .dataframe tbody tr th:only-of-type {\n",
       "        vertical-align: middle;\n",
       "    }\n",
       "\n",
       "    .dataframe tbody tr th {\n",
       "        vertical-align: top;\n",
       "    }\n",
       "\n",
       "    .dataframe thead th {\n",
       "        text-align: right;\n",
       "    }\n",
       "</style>\n",
       "<table border=\"1\" class=\"dataframe\">\n",
       "  <thead>\n",
       "    <tr style=\"text-align: right;\">\n",
       "      <th></th>\n",
       "      <th>alpha</th>\n",
       "      <th>mean_tr</th>\n",
       "      <th>mean_val</th>\n",
       "      <th>std_val</th>\n",
       "    </tr>\n",
       "  </thead>\n",
       "  <tbody>\n",
       "    <tr>\n",
       "      <th>0</th>\n",
       "      <td>1e-10</td>\n",
       "      <td>0.611254</td>\n",
       "      <td>0.549572</td>\n",
       "      <td>0.004828</td>\n",
       "    </tr>\n",
       "    <tr>\n",
       "      <th>1</th>\n",
       "      <td>0.1</td>\n",
       "      <td>0.608526</td>\n",
       "      <td>0.548008</td>\n",
       "      <td>0.004199</td>\n",
       "    </tr>\n",
       "    <tr>\n",
       "      <th>2</th>\n",
       "      <td>0.2</td>\n",
       "      <td>0.606650</td>\n",
       "      <td>0.546573</td>\n",
       "      <td>0.006334</td>\n",
       "    </tr>\n",
       "    <tr>\n",
       "      <th>3</th>\n",
       "      <td>0.3</td>\n",
       "      <td>0.604690</td>\n",
       "      <td>0.546035</td>\n",
       "      <td>0.005177</td>\n",
       "    </tr>\n",
       "    <tr>\n",
       "      <th>4</th>\n",
       "      <td>0.4</td>\n",
       "      <td>0.602788</td>\n",
       "      <td>0.545732</td>\n",
       "      <td>0.004784</td>\n",
       "    </tr>\n",
       "    <tr>\n",
       "      <th>5</th>\n",
       "      <td>0.5</td>\n",
       "      <td>0.600803</td>\n",
       "      <td>0.543755</td>\n",
       "      <td>0.004290</td>\n",
       "    </tr>\n",
       "    <tr>\n",
       "      <th>6</th>\n",
       "      <td>0.6</td>\n",
       "      <td>0.599624</td>\n",
       "      <td>0.542238</td>\n",
       "      <td>0.004839</td>\n",
       "    </tr>\n",
       "    <tr>\n",
       "      <th>7</th>\n",
       "      <td>0.7</td>\n",
       "      <td>0.597226</td>\n",
       "      <td>0.539946</td>\n",
       "      <td>0.004170</td>\n",
       "    </tr>\n",
       "    <tr>\n",
       "      <th>8</th>\n",
       "      <td>0.8</td>\n",
       "      <td>0.594702</td>\n",
       "      <td>0.539031</td>\n",
       "      <td>0.002985</td>\n",
       "    </tr>\n",
       "    <tr>\n",
       "      <th>9</th>\n",
       "      <td>0.9</td>\n",
       "      <td>0.592577</td>\n",
       "      <td>0.538726</td>\n",
       "      <td>0.003903</td>\n",
       "    </tr>\n",
       "    <tr>\n",
       "      <th>10</th>\n",
       "      <td>1</td>\n",
       "      <td>0.590290</td>\n",
       "      <td>0.538225</td>\n",
       "      <td>0.003710</td>\n",
       "    </tr>\n",
       "  </tbody>\n",
       "</table>\n",
       "</div>"
      ],
      "text/plain": [
       "    alpha   mean_tr  mean_val   std_val\n",
       "0   1e-10  0.611254  0.549572  0.004828\n",
       "1     0.1  0.608526  0.548008  0.004199\n",
       "2     0.2  0.606650  0.546573  0.006334\n",
       "3     0.3  0.604690  0.546035  0.005177\n",
       "4     0.4  0.602788  0.545732  0.004784\n",
       "5     0.5  0.600803  0.543755  0.004290\n",
       "6     0.6  0.599624  0.542238  0.004839\n",
       "7     0.7  0.597226  0.539946  0.004170\n",
       "8     0.8  0.594702  0.539031  0.002985\n",
       "9     0.9  0.592577  0.538726  0.003903\n",
       "10      1  0.590290  0.538225  0.003710"
      ]
     },
     "execution_count": 9,
     "metadata": {},
     "output_type": "execute_result"
    }
   ],
   "source": [
    "import warnings\n",
    "from sklearn.exceptions import ConvergenceWarning\n",
    "\n",
    "# Filter convergence warnings\n",
    "warnings.simplefilter('ignore', ConvergenceWarning)\n",
    "\n",
    "# Fit/evaluate estimator\n",
    "bayes_gscv.fit(X_train_tfidf, y_tr_enc)\n",
    "\n",
    "# Collect results in a DataFrame\n",
    "bayes_results = pd.DataFrame({\n",
    "    'alpha': bayes_gscv.cv_results_['param_bayes__alpha'],\n",
    "    'mean_tr': bayes_gscv.cv_results_['mean_train_score'],\n",
    "    'mean_val': bayes_gscv.cv_results_['mean_test_score'],\n",
    "    'std_val': bayes_gscv.cv_results_['std_test_score']\n",
    "})\n",
    "\n",
    "# Ten best combinations according to the mean test score\n",
    "bayes_results.sort_values(by='mean_val', ascending=False).head(11)"
   ]
  },
  {
   "cell_type": "markdown",
   "id": "22e5dbb2",
   "metadata": {},
   "source": [
    "As we can see, the best average of the training score during the cross validation is 55% for a smoothing parameter = 1e-10 (almost no smoothing). \n",
    "\n",
    "Next, we fit a the model with the optimal hyperparameters a last time on the whole training set and use it to produce predictions on the test set. \n",
    "\n",
    "### 3) Predictions on the test set\n",
    "\n",
    "#### Classification performance"
   ]
  },
  {
   "cell_type": "code",
   "execution_count": 10,
   "id": "3bada5d2",
   "metadata": {},
   "outputs": [],
   "source": [
    "best_bayes_params = bayes_results.iloc[bayes_results['mean_val'].idxmax(), :]"
   ]
  },
  {
   "cell_type": "code",
   "execution_count": 11,
   "id": "3a5bc7c1",
   "metadata": {},
   "outputs": [],
   "source": [
    "# Naive Bayes classifier on whole training set\n",
    "bayes_final = Pipeline([\n",
    "    ('bayes', MultinomialNB(alpha = best_bayes_params['alpha'],\n",
    "               fit_prior = True))\n",
    "])"
   ]
  },
  {
   "cell_type": "code",
   "execution_count": 12,
   "id": "ee56d921",
   "metadata": {},
   "outputs": [
    {
     "data": {
      "text/plain": [
       "Pipeline(steps=[('bayes', MultinomialNB(alpha=1e-10))])"
      ]
     },
     "execution_count": 12,
     "metadata": {},
     "output_type": "execute_result"
    }
   ],
   "source": [
    "bayes_final.fit(X_train_tfidf, y_tr_enc)"
   ]
  },
  {
   "cell_type": "code",
   "execution_count": 13,
   "id": "085a15c7",
   "metadata": {},
   "outputs": [
    {
     "name": "stdout",
     "output_type": "stream",
     "text": [
      "Test accuracy of a tuned naive bayes classifier: 56.43%\n",
      "Test weighted F1 score of a tuned naive bayes classifier: 54.09%\n"
     ]
    }
   ],
   "source": [
    "# Report test score\n",
    "bayes_accuracy = bayes_final.score(X_test_tfidf, y_te_enc)\n",
    "print('Test accuracy of a tuned naive bayes classifier: {:.2f}%'.format(100*bayes_accuracy))\n",
    "\n",
    "from sklearn.metrics import f1_score\n",
    "bayes_f1score = f1_score(y_te_enc, bayes_final.predict(X_test_tfidf), average = 'weighted')\n",
    "print('Test weighted F1 score of a tuned naive bayes classifier: {:.2f}%'.format(100*bayes_f1score))"
   ]
  },
  {
   "cell_type": "markdown",
   "id": "869ab31d",
   "metadata": {},
   "source": [
    "In addition to the f1 score, we produce the classification report below: "
   ]
  },
  {
   "cell_type": "code",
   "execution_count": 14,
   "id": "ce53effd",
   "metadata": {},
   "outputs": [
    {
     "name": "stdout",
     "output_type": "stream",
     "text": [
      "              precision    recall  f1-score   support\n",
      "\n",
      "    Critique       0.48      0.20      0.28       488\n",
      "  Discussion       0.49      0.39      0.44       652\n",
      "        Help       0.59      0.70      0.64       827\n",
      "        Look       0.59      0.76      0.67       911\n",
      "\n",
      "    accuracy                           0.56      2878\n",
      "   macro avg       0.54      0.51      0.51      2878\n",
      "weighted avg       0.55      0.56      0.54      2878\n",
      "\n"
     ]
    }
   ],
   "source": [
    " print(classification_report(y_te_enc, bayes_final.predict(X_test_tfidf), target_names = LE.classes_))"
   ]
  },
  {
   "cell_type": "markdown",
   "id": "c4de749e",
   "metadata": {},
   "source": [
    "In addition to the f1-score, the report displays the precision, the recall as well as the accuracy. \n",
    "* The precision is the ratio of correctly predicted observations in a class to the total predicted observations in this classe. In other words, for a given Flair, how many of the observations predicted in this class actually belong to it. \n",
    "* The recall is the ratio of correctly predicted observations in a class to the total number of observations in this actual class. In other words, for a given Flair, how many of the observtaions belonging to it were correctly identified. \n",
    "\n",
    "We can see that Look and Help are the Flairs with the bestresults. \n",
    "76% of the posts in the Look flair are being correctly predicted and 59% of the posts predicted in this class actually belong to this class. \n",
    "\n",
    "70% of the posts in the Help flair are being corectly predicted and 59% of the posts predicted in this class actually belong to it. \n",
    "\n",
    "Unsurprisingly, the Flair with the worst results on all metrics is Critique, which had the least observations. Only 48% of the observations predicted in this class actually belong to it and only 20% of the Critique posts are well predicted.\n",
    "Discussion is only marginally better, with only 49% of the observations predicted as discussion, actually belonging to this flair, and only 39% of the posts in this category being correctly predicted. \n",
    "\n",
    "The confusion matrix below shows this by displaying the repartition of the predictions in each classe: "
   ]
  },
  {
   "cell_type": "code",
   "execution_count": 15,
   "id": "5aa9dd46",
   "metadata": {},
   "outputs": [
    {
     "data": {
      "image/png": "[encoded data removed]",
      "text/plain": [
       "<Figure size 432x288 with 2 Axes>"
      ]
     },
     "metadata": {
      "needs_background": "light"
     },
     "output_type": "display_data"
    }
   ],
   "source": [
    "\n",
    "from sklearn.metrics import ConfusionMatrixDisplay\n",
    "\n",
    "disp = ConfusionMatrixDisplay(\n",
    "        confusion_matrix(y_te_enc, bayes_final.predict(X_test_tfidf)),\n",
    "        display_labels=LE.classes_,\n",
    "        #cmap=plt.cm.Blues,\n",
    "        #normalize=True,\n",
    "    ).plot()\n",
    "#disp.ax_.set_title(\"Confusion matrix\")\n",
    "\n",
    "#print(title)\n",
    "#print(disp.confusion_matrix)\n",
    "\n",
    "plt.show()\n"
   ]
  },
  {
   "cell_type": "markdown",
   "id": "77faccf8",
   "metadata": {},
   "source": [
    "We can see that for Critique posts, misclassified posts are mostly identified as Look. \n",
    "\n",
    "Discussion posts that are misclassified tend to be misclassified as Look first, then as Help. \n",
    "\n",
    "Misclassified Help posts tend to be misclassified as Look and Discussion: \n",
    "\n",
    "Misclassified Look posts tend to be misclassified as Critique and Discussion. \n",
    "\n",
    "In order to identify if the issue with the misclassifications could stem from the way we regrouped the original flairs, we plot below how the original flairs are predicted: \n",
    "\n",
    "#### Classification vs original Flairs"
   ]
  },
  {
   "cell_type": "code",
   "execution_count": 16,
   "id": "dec48b2a",
   "metadata": {},
   "outputs": [],
   "source": [
    "crit_mask = y_te == \"Critique\"\n",
    "disc_mask = y_te == \"Discussion\"\n",
    "help_mask = y_te == \"Help\"\n",
    "look_mask = y_te == \"Look\""
   ]
  },
  {
   "cell_type": "code",
   "execution_count": 17,
   "id": "b95b41e1",
   "metadata": {},
   "outputs": [
    {
     "data": {
      "image/png": "[encoded data removed]",
      "text/plain": [
       "<Figure size 1440x1440 with 4 Axes>"
      ]
     },
     "metadata": {
      "needs_background": "light"
     },
     "output_type": "display_data"
    }
   ],
   "source": [
    "crit_df = test_df.loc[crit_mask, :].copy()\n",
    "crit_df[\"predictions\"] = LE.inverse_transform(bayes_final.predict(X_test_tfidf)[crit_mask])\n",
    "\n",
    "disc_df = test_df.loc[disc_mask, :].copy()\n",
    "disc_df[\"predictions\"] = LE.inverse_transform(bayes_final.predict(X_test_tfidf)[disc_mask])\n",
    "\n",
    "help_df = test_df.loc[help_mask, :].copy()\n",
    "help_df[\"predictions\"] = LE.inverse_transform(bayes_final.predict(X_test_tfidf)[help_mask])\n",
    "\n",
    "look_df = test_df.loc[look_mask, :].copy()\n",
    "look_df[\"predictions\"] = LE.inverse_transform(bayes_final.predict(X_test_tfidf)[look_mask])\n",
    "\n",
    "fig, ((ax1, ax2), (ax3, ax4)) = plt.subplots(nrows = 2, ncols=2, sharex = False, sharey = False,  figsize=(20,20))\n",
    "\n",
    "sns.catplot(y=\"Flair\", hue=\"predictions\", kind=\"count\",\n",
    "            palette=\"pastel\", edgecolor=\".6\", hue_order = [\"Critique\", \"Discussion\", \"Help\", \"Look\"],\n",
    "            data=crit_df, ax = ax1)\n",
    "plt.close(plt.gcf())\n",
    "\n",
    "sns.catplot(y=\"Flair\", hue=\"predictions\", kind=\"count\",\n",
    "            palette=\"pastel\", edgecolor=\".6\", hue_order = [\"Critique\", \"Discussion\", \"Help\", \"Look\"],\n",
    "            data=disc_df, ax = ax2)\n",
    "plt.close(plt.gcf())\n",
    "\n",
    "sns.catplot(y=\"Flair\", hue=\"predictions\", kind=\"count\",\n",
    "            palette=\"pastel\", edgecolor=\".6\", hue_order = [\"Critique\", \"Discussion\", \"Help\", \"Look\"],\n",
    "            data=help_df, ax = ax3)\n",
    "plt.close(plt.gcf())\n",
    "\n",
    "sns.catplot(y=\"Flair\", hue=\"predictions\", kind=\"count\",\n",
    "            palette=\"pastel\", edgecolor=\".6\", hue_order = [\"Critique\", \"Discussion\", \"Help\", \"Look\"],\n",
    "            data=look_df, ax = ax4)\n",
    "plt.close(plt.gcf())\n",
    "\n",
    "ax1.set_title(\"Critique\")\n",
    "ax2.set_title(\"Discussion\")\n",
    "ax3.set_title(\"Help\")\n",
    "ax4.set_title(\"Look\")\n",
    "plt.tight_layout()\n",
    "plt.show()"
   ]
  },
  {
   "cell_type": "markdown",
   "id": "0ed7e7d1",
   "metadata": {},
   "source": [
    "We can see that for Posts in the Look category, it is very evident, that all original Flairs are majorly predicted as Look, as expected. The same goes for posts in the Help category, where a majority of the original flairs are predicted as Help, at the exception of the original flair \"Do you have a recipe for...\", where a majority tend to be predicted as Discussion. \n",
    "\n",
    "Regarding the other two categories, Critique and Discussion, the predictions are a bit messier. \n",
    "\n",
    "For Discussion, Some of the original flairs tend to be mainly predicted in the Help category: \"Let's discuss\", 'Let's discuss/share knowledge\", \"Let's talk bulk fermentation\", \"Let's talk technique\" and \"top tip\". Even in Categories where the most frequent prediction is Discussion, the predictions are almost always split equaly with Look.   \n",
    "\n",
    "Finally, for the Critique category, we can see that the two \"Rate/critique my bread\" have different distribution. \n",
    "For one of them, the majority of the posts are classified as Look instead of Critique, implying that the at some point the flair might have been used more as a way to show off photos of the bread. For the second \"Rate/Critique my bread\", all posts are almost equally distributed between all categories. Other than this observation, we can see that none of the original flairs were mainly predicted as Critique.  \n",
    "\n",
    "Finally, we are interested in investigating which words were the most important for the classification task. \n",
    "For this, we display below the words with the highest probability in each class: "
   ]
  },
  {
   "cell_type": "code",
   "execution_count": 18,
   "id": "11ea36e7",
   "metadata": {},
   "outputs": [
    {
     "data": {
      "image/png": "[encoded data removed]",
      "text/plain": [
       "<Figure size 1440x1440 with 4 Axes>"
      ]
     },
     "metadata": {
      "needs_background": "light"
     },
     "output_type": "display_data"
    }
   ],
   "source": [
    "def get_top_words(words, importance, n):\n",
    "#words = np.array(tf_idf.get_feature_names())\n",
    "#importance = np.array(bayes_final.named_steps[\"bayes\"].coef_[0])\n",
    "    inds = importance.argsort()\n",
    "    imp_words = words[inds][::-1]\n",
    "    imp_value = np.exp(importance[inds][::-1])\n",
    "    imp_df = pd.DataFrame({\"Word\" : imp_words, \n",
    "                       \"imp\" : imp_value\n",
    "                      })\n",
    "    return(imp_df.head(n))\n",
    "\n",
    "fig, (axs) = plt.subplots(nrows = 2, ncols=2, sharex = False, sharey = False,  figsize=(20,20))\n",
    "colormap = plt.cm.tab20(range(0, 20))\n",
    "for x in range(4):\n",
    "    if x == 0: \n",
    "        pos = axs[0,0]\n",
    "    elif x ==1: \n",
    "        pos = axs[0,1]\n",
    "    elif x ==2: \n",
    "        pos = axs[1,0]\n",
    "    elif x ==3: \n",
    "        pos = axs[1,1]\n",
    "    get_top_words(np.array(tf_idf.get_feature_names()), bayes_final.named_steps[\"bayes\"].feature_log_prob_[x,:], 20).plot.barh(y = \"imp\", x = 'Word', color = colormap, legend = False, ax = pos)\n",
    "    pos.set_title(LE.classes_[x])\n",
    "    pos.set_xlabel('Importance')\n",
    "    pos.set_ylabel('Word')\n",
    "    pos.invert_yaxis()\n",
    "\n",
    "fig.suptitle('Top words importance for Naive Bayes classification')\n",
    "#plt.tight_layout()\n",
    "plt.show()"
   ]
  },
  {
   "cell_type": "markdown",
   "id": "e3794157",
   "metadata": {},
   "source": [
    "The words with the highest probability for the Critique category are: loaf, flour, first, bread and look. \n",
    "\n",
    "The words with the highest probability for the Discussion category are: flour, bread, starter, recipe and bake. \n",
    "\n",
    "The words with the highest probability for the Help category are: starter, floor, feed, use and dough. \n",
    "\n",
    "The words with the highest probability for the Look category are: loaf, sourdough, first, look and bread. \n",
    "\n",
    "We can see that there is a lot of overlap between the words with the highest probabilities in each category. In particular, the fact the word with the highest probablity for Critique and Look is the same, can explain, why posts in Critique tended to be misclassified as Look. \n",
    "\n",
    "The words in the top 50 that are specific to each Flair are displayed below: "
   ]
  },
  {
   "cell_type": "code",
   "execution_count": 19,
   "id": "22f1cfa1",
   "metadata": {},
   "outputs": [],
   "source": [
    "top_critique = set(get_top_words(np.array(tf_idf.get_feature_names()), bayes_final.named_steps[\"bayes\"].feature_log_prob_[0,:], 50).Word)\n",
    "top_discussion = set(get_top_words(np.array(tf_idf.get_feature_names()), bayes_final.named_steps[\"bayes\"].feature_log_prob_[1,:], 50).Word)\n",
    "top_help = set(get_top_words(np.array(tf_idf.get_feature_names()), bayes_final.named_steps[\"bayes\"].feature_log_prob_[2,:], 50).Word)\n",
    "top_look = set(get_top_words(np.array(tf_idf.get_feature_names()), bayes_final.named_steps[\"bayes\"].feature_log_prob_[3,:], 50).Word)"
   ]
  },
  {
   "cell_type": "code",
   "execution_count": 20,
   "id": "9a46b3e8",
   "metadata": {},
   "outputs": [
    {
     "name": "stdout",
     "output_type": "stream",
     "text": [
      "Top words with the highest probability in Critique, not in the top 20 words in the other categories:  {'bit', 'rest'}\n",
      "Top words with the highest probability in Discussion, not in the top 20 words in the other categories:  {'mix', 'let', 'remove'}\n",
      "Top words with the highest probability in Help, not in the top 20 words in the other categories:  {'start', 'smell', 'discard', 'need', 'take', 'feed', 'help', 'put', 'keep'}\n",
      "Top words with the highest probability in Look, not in the top 20 words in the other categories:  {'today', 'little', 'seed', 'attempt', 'delete', 'finally', 'pretty', 'turn', 'beautiful', 'happy', 'yet', 'love', 'amazing'}\n"
     ]
    }
   ],
   "source": [
    "print(\"Top words with the highest probability in Critique, not in the top 20 words in the other categories: \", top_critique.difference(top_discussion ,top_help ,top_look))\n",
    "\n",
    "print(\"Top words with the highest probability in Discussion, not in the top 20 words in the other categories: \", top_discussion.difference(top_critique ,top_help ,top_look))\n",
    "\n",
    "print(\"Top words with the highest probability in Help, not in the top 20 words in the other categories: \", top_help.difference(top_discussion ,top_critique ,top_look))\n",
    "\n",
    "print(\"Top words with the highest probability in Look, not in the top 20 words in the other categories: \", top_look.difference(top_discussion ,top_help ,top_critique))"
   ]
  },
  {
   "cell_type": "markdown",
   "id": "31b2caa4",
   "metadata": {},
   "source": [
    "The words that are only in the top 50 words for Critique are: rest and bit. \n",
    "The words that are only in the top 50 words for Discussion are: let and remove and mix. \n",
    "In both cases, theses words are describing processes in bread baking. The fact that there are not a lot of words that are specific to these categories, explains why this classifier is not a really good predictor for these classes. \n",
    "\n",
    "For Help, the words that only in the top 50 words for this flair are: need, put, help, take, discard, keep, smell, start and feed. Most of these words are linked to the feeding and maintenance of a starter. \n",
    "\n",
    "For Look, the words that are only in the top 50 words for this flair are : pretty, seed, today, little, love, turn, amazing, happy, beautiful, attempt finally, delete, yet. Most of these words are superlative or positive ways of expressing feedbacks on loaves.  \n",
    " "
   ]
  },
  {
   "cell_type": "markdown",
   "id": "ab963fb4",
   "metadata": {},
   "source": [
    "### 3) Saving model \n",
    "\n",
    "Next, we produce out of folds productions on the training set: \n",
    "* split the training setin 5 folds\n",
    "* fit the model on the first 4 folds\n",
    "* compute predictions on the last fold \n",
    "* repeat for all of the 5 folds\n",
    "\n",
    "These predictions will be used for a quick data exploration of the prediction before computing the stacking classifier. We compute both: \n",
    "* the flair prediction, in order to have a quick access to them to compute the correlation between the classification errors of all 0-level models before stacking\n",
    "* the probability predictions, to use in a PCA. "
   ]
  },
  {
   "cell_type": "code",
   "execution_count": 21,
   "id": "7900f794",
   "metadata": {},
   "outputs": [],
   "source": [
    "oof_bayes_proba_pred = np.ndarray(shape = (0,4))\n",
    "oof_bayes_class_pred = []\n",
    "oof_bayes_true = []\n",
    "for train_ix, test_ix in skf.split(X_train_tfidf, y_tr_enc):\n",
    "    # get data\n",
    "    train_X, test_X = X_train_tfidf[train_ix], X_train_tfidf[test_ix]\n",
    "    train_y, test_y = y_tr_enc[train_ix], y_tr_enc[test_ix]\n",
    "    # fit model\n",
    "    bayes_final.fit(train_X, train_y)\n",
    "    # store predictions\n",
    "    oof_bayes_proba_pred = np.vstack((oof_bayes_proba_pred, bayes_final.predict_proba(test_X)))\n",
    "    oof_bayes_class_pred.append(bayes_final.predict(test_X))\n",
    "    oof_bayes_true.append(test_y)\n",
    "oof_bayes_class_pred = np.concatenate(oof_bayes_class_pred).ravel()\n",
    "oof_bayes_true = np.concatenate(oof_bayes_true).ravel()"
   ]
  },
  {
   "cell_type": "code",
   "execution_count": 22,
   "id": "56a32b4d",
   "metadata": {},
   "outputs": [
    {
     "name": "stdout",
     "output_type": "stream",
     "text": [
      "6713\n",
      "(6713, 4)\n",
      "6713\n",
      "6713\n"
     ]
    }
   ],
   "source": [
    "# check resulting lists \n",
    "print(len(y_tr_enc))\n",
    "print(oof_bayes_proba_pred.shape)\n",
    "print(len(oof_bayes_class_pred))\n",
    "print(len(oof_bayes_true))"
   ]
  },
  {
   "cell_type": "markdown",
   "id": "fbb001d2",
   "metadata": {},
   "source": [
    "Finally, we save the models as well as the predictions into a pickle file "
   ]
  },
  {
   "cell_type": "code",
   "execution_count": 23,
   "id": "ce2a1fd2",
   "metadata": {},
   "outputs": [],
   "source": [
    "# pickle model to disk\n",
    "filename = 'results/01_bayes.sav'\n",
    "pickle.dump([bayes_final, oof_bayes_proba_pred, oof_bayes_class_pred,  oof_bayes_true], open(filename, 'wb'))"
   ]
  },
  {
   "cell_type": "code",
   "execution_count": null,
   "id": "7a21e4e1",
   "metadata": {},
   "outputs": [],
   "source": []
  }
 ],
 "metadata": {
  "kernelspec": {
   "display_name": "Python 3",
   "language": "python",
   "name": "python3"
  },
  "language_info": {
   "codemirror_mode": {
    "name": "ipython",
    "version": 3
   },
   "file_extension": ".py",
   "mimetype": "text/x-python",
   "name": "python",
   "nbconvert_exporter": "python",
   "pygments_lexer": "ipython3",
   "version": "3.6.13"
  }
 },
 "nbformat": 4,
 "nbformat_minor": 5
}
